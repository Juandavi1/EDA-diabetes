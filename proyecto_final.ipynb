{
 "nbformat": 4,
 "nbformat_minor": 0,
 "metadata": {
  "colab": {
   "provenance": []
  },
  "kernelspec": {
   "name": "python3",
   "language": "python",
   "display_name": "Python 3 (ipykernel)"
  },
  "language_info": {
   "name": "R"
  }
 },
 "cells": [
  {
   "cell_type": "markdown",
   "source": [
    "# EDA"
   ],
   "metadata": {
    "id": "IkoyvngS9eiK"
   }
  },
  {
   "cell_type": "code",
   "execution_count": 1,
   "metadata": {
    "colab": {
     "base_uri": "https://localhost:8080/"
    },
    "id": "Vi3mR8mkSnGN",
    "outputId": "ca10e406-649f-40e8-86d9-e768daaee220",
    "ExecuteTime": {
     "end_time": "2023-09-22T01:48:51.544881Z",
     "start_time": "2023-09-22T01:48:51.145618Z"
    }
   },
   "outputs": [
    {
     "ename": "NameError",
     "evalue": "name 'install' is not defined",
     "output_type": "error",
     "traceback": [
      "\u001B[0;31m---------------------------------------------------------------------------\u001B[0m",
      "\u001B[0;31mNameError\u001B[0m                                 Traceback (most recent call last)",
      "Cell \u001B[0;32mIn[1], line 1\u001B[0m\n\u001B[0;32m----> 1\u001B[0m \u001B[43minstall\u001B[49m\u001B[38;5;241m.\u001B[39mpackages(\u001B[38;5;124m\"\u001B[39m\u001B[38;5;124mggthemes\u001B[39m\u001B[38;5;124m\"\u001B[39m)\n\u001B[1;32m      2\u001B[0m library(tidyverse)\n\u001B[1;32m      3\u001B[0m library(ggthemes)\n",
      "\u001B[0;31mNameError\u001B[0m: name 'install' is not defined"
     ]
    }
   ],
   "source": [
    "install.packages(\"ggthemes\")\n",
    "library(tidyverse)\n",
    "library(ggthemes)"
   ]
  },
  {
   "cell_type": "code",
   "source": [
    "glucose <- read_csv(\"/content/Glucose.csv\")\n",
    "oximetry <- read_csv(\"/content/Oximetry.csv\")\n",
    "hw <- read_csv(\"/content/Weight_Height.csv\")\n",
    "bloodPressure <- read_csv(\"/content/bloodPressure.csv\")\n"
   ],
   "metadata": {
    "colab": {
     "base_uri": "https://localhost:8080/"
    },
    "id": "QNoH28V1Thq9",
    "outputId": "0815b74c-4afb-441c-fafa-6d8936a5a52f",
    "ExecuteTime": {
     "end_time": "2023-09-22T01:48:51.582208Z",
     "start_time": "2023-09-22T01:48:51.550100Z"
    }
   },
   "execution_count": null,
   "outputs": []
  },
  {
   "cell_type": "markdown",
   "source": [
    "### Analisis glocosa"
   ],
   "metadata": {
    "id": "isgN0t8cUYwS"
   }
  },
  {
   "cell_type": "code",
   "source": [
    "head(glucose)"
   ],
   "metadata": {
    "id": "d-K_79chUaKb",
    "colab": {
     "base_uri": "https://localhost:8080/",
     "height": 286
    },
    "outputId": "146b932a-bce7-466c-eebd-efbfb2592905"
   },
   "execution_count": 3,
   "outputs": [
    {
     "output_type": "display_data",
     "data": {
      "text/html": [
       "<table class=\"dataframe\">\n",
       "<caption>A tibble: 6 × 3</caption>\n",
       "<thead>\n",
       "\t<tr><th scope=col>Patient</th><th scope=col>Glucose</th><th scope=col>Date</th></tr>\n",
       "\t<tr><th scope=col>&lt;dbl&gt;</th><th scope=col>&lt;dbl&gt;</th><th scope=col>&lt;chr&gt;</th></tr>\n",
       "</thead>\n",
       "<tbody>\n",
       "\t<tr><td>1369</td><td> 61</td><td>1/1/2013 8:02</td></tr>\n",
       "\t<tr><td>1410</td><td> 82</td><td>1/1/2013 8:04</td></tr>\n",
       "\t<tr><td>1156</td><td> 89</td><td>1/1/2013 8:13</td></tr>\n",
       "\t<tr><td> 663</td><td> 68</td><td>1/1/2013 8:15</td></tr>\n",
       "\t<tr><td>1198</td><td>135</td><td>1/1/2013 8:38</td></tr>\n",
       "\t<tr><td> 740</td><td>105</td><td>1/1/2013 8:48</td></tr>\n",
       "</tbody>\n",
       "</table>\n"
      ],
      "text/markdown": "\nA tibble: 6 × 3\n\n| Patient &lt;dbl&gt; | Glucose &lt;dbl&gt; | Date &lt;chr&gt; |\n|---|---|---|\n| 1369 |  61 | 1/1/2013 8:02 |\n| 1410 |  82 | 1/1/2013 8:04 |\n| 1156 |  89 | 1/1/2013 8:13 |\n|  663 |  68 | 1/1/2013 8:15 |\n| 1198 | 135 | 1/1/2013 8:38 |\n|  740 | 105 | 1/1/2013 8:48 |\n\n",
      "text/latex": "A tibble: 6 × 3\n\\begin{tabular}{lll}\n Patient & Glucose & Date\\\\\n <dbl> & <dbl> & <chr>\\\\\n\\hline\n\t 1369 &  61 & 1/1/2013 8:02\\\\\n\t 1410 &  82 & 1/1/2013 8:04\\\\\n\t 1156 &  89 & 1/1/2013 8:13\\\\\n\t  663 &  68 & 1/1/2013 8:15\\\\\n\t 1198 & 135 & 1/1/2013 8:38\\\\\n\t  740 & 105 & 1/1/2013 8:48\\\\\n\\end{tabular}\n",
      "text/plain": [
       "  Patient Glucose Date         \n",
       "1 1369     61     1/1/2013 8:02\n",
       "2 1410     82     1/1/2013 8:04\n",
       "3 1156     89     1/1/2013 8:13\n",
       "4  663     68     1/1/2013 8:15\n",
       "5 1198    135     1/1/2013 8:38\n",
       "6  740    105     1/1/2013 8:48"
      ]
     },
     "metadata": {}
    }
   ]
  },
  {
   "cell_type": "markdown",
   "source": [
    "#### Cantidad de pacientes"
   ],
   "metadata": {
    "id": "ihnTlBmiChLb"
   }
  },
  {
   "cell_type": "code",
   "source": [
    "glucose %>%\n",
    "  select(Patient) %>%\n",
    "  distinct() %>%\n",
    "  count()"
   ],
   "metadata": {
    "id": "zg-C0qQrCi9B"
   },
   "execution_count": null,
   "outputs": []
  },
  {
   "cell_type": "markdown",
   "source": [
    "#### Cantidad de muestras por paciente\n",
    "\n",
    "> **confirmar la cantidad de muestras necesarías para poder determinar si es un paciente vulnerable.**"
   ],
   "metadata": {
    "id": "uSY7Wp_cy3IN"
   }
  },
  {
   "cell_type": "code",
   "source": [
    "## Cantidad de tomas de glucosa por paciente\n",
    "records <- glucose %>%\n",
    "  group_by(Patient) %>%\n",
    "  summarize(\n",
    "    n=n()\n",
    "  )"
   ],
   "metadata": {
    "id": "rjsHEF5wy6nM"
   },
   "execution_count": null,
   "outputs": []
  },
  {
   "cell_type": "code",
   "source": [
    "## A primera vista se observa que hay pacientes que tienen muchas más muestras que el resto de\n",
    "## los pacientes. Así como tambien hay pacientes con solo una muestra.\n",
    "table(records$n)"
   ],
   "metadata": {
    "id": "4cLCf4k6zTvH"
   },
   "execution_count": null,
   "outputs": []
  },
  {
   "cell_type": "code",
   "source": [
    "## obtenemos el paciente que tiene 1209 tomas\n",
    "records[records$n==1209,]"
   ],
   "metadata": {
    "id": "vrbsDZtCzWI7"
   },
   "execution_count": null,
   "outputs": []
  },
  {
   "cell_type": "code",
   "source": [
    "head(glucose %>% filter(Patient == 81))"
   ],
   "metadata": {
    "id": "WpJGPuTsu5M4"
   },
   "execution_count": null,
   "outputs": []
  },
  {
   "cell_type": "code",
   "source": [
    "glucose %>%\n",
    "  select(Patient) %>%\n",
    "  distinct() %>%\n",
    "  inner_join(\n",
    "    bloodPressure %>%\n",
    "      select(Patient) %>%\n",
    "      distinct() ,\n",
    "    by = c(\"Patient\")\n",
    "  ) %>% count()"
   ],
   "metadata": {
    "id": "7iE9SXr73cFd"
   },
   "execution_count": null,
   "outputs": []
  },
  {
   "cell_type": "markdown",
   "source": [
    "#### Distribución de la glucosa en los pacientes"
   ],
   "metadata": {
    "id": "PChVnpzi9s8t"
   }
  },
  {
   "cell_type": "code",
   "source": [
    "glucose %>%\n",
    "  ggplot(aes(Glucose)) +\n",
    "  geom_histogram(color=Patient, fill=\"blue\", alpha=0.5) +\n",
    "  ggtitle(\"distribución de la glocosa\")"
   ],
   "metadata": {
    "id": "fEBrqsuzUKpJ"
   },
   "execution_count": null,
   "outputs": []
  },
  {
   "cell_type": "code",
   "source": [],
   "metadata": {
    "id": "G_9XZCQhYtP1"
   },
   "execution_count": null,
   "outputs": []
  },
  {
   "cell_type": "code",
   "source": [
    "glucose %>%\n",
    "  filter(Patient == 8) %>%\n",
    "  #mutate(Date=str_split(Date, \" \")[[1]][2]) %>%\n",
    "  ggplot(aes(x=Date, y=Glucose, color=Patient)) +\n",
    "  geom_line()"
   ],
   "metadata": {
    "id": "otngvIt9ammU"
   },
   "execution_count": null,
   "outputs": []
  },
  {
   "cell_type": "markdown",
   "source": [
    "\n"
   ],
   "metadata": {
    "id": "wGGIquFY-sTN"
   }
  },
  {
   "cell_type": "markdown",
   "source": [
    "# Modelación"
   ],
   "metadata": {
    "id": "x3y_MxYO-wC3"
   }
  },
  {
   "cell_type": "markdown",
   "source": [
    "# Evaluación"
   ],
   "metadata": {
    "id": "sacyDoAC-zP3"
   }
  }
 ]
}
